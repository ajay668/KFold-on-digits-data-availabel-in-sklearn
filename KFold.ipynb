{
  "nbformat": 4,
  "nbformat_minor": 0,
  "metadata": {
    "colab": {
      "name": "KFold.ipynb",
      "provenance": []
    },
    "kernelspec": {
      "name": "python3",
      "display_name": "Python 3"
    },
    "language_info": {
      "name": "python"
    }
  },
  "cells": [
    {
      "cell_type": "markdown",
      "metadata": {
        "id": "z77EEimZv-hk"
      },
      "source": [
        "# **In this code we will study k-fold cross validation on digits data available in sklearn**"
      ]
    },
    {
      "cell_type": "code",
      "metadata": {
        "id": "Q_liL4nCoi4k"
      },
      "source": [
        "from sklearn.linear_model import LogisticRegression\n",
        "from sklearn.svm import SVC\n",
        "from sklearn.ensemble import RandomForestClassifier\n",
        "import numpy as np\n",
        "from sklearn.datasets import load_digits\n",
        "import matplotlib.pyplot as plt"
      ],
      "execution_count": null,
      "outputs": []
    },
    {
      "cell_type": "code",
      "metadata": {
        "id": "FAnm8xaNpJh3"
      },
      "source": [
        "digits = load_digits()\n"
      ],
      "execution_count": null,
      "outputs": []
    },
    {
      "cell_type": "code",
      "metadata": {
        "colab": {
          "base_uri": "https://localhost:8080/",
          "height": 282
        },
        "id": "JFYzMF-3pvQx",
        "outputId": "f44c4c10-4125-43c2-ecb8-76fb9bc491b4"
      },
      "source": [
        "# With dir function we will explore the data\n",
        "dir(digits)\n",
        "# Images are availabel in digits.images \n",
        "plt.imshow(digits.images[100])"
      ],
      "execution_count": null,
      "outputs": [
        {
          "output_type": "execute_result",
          "data": {
            "text/plain": [
              "<matplotlib.image.AxesImage at 0x7fbaf0bed590>"
            ]
          },
          "metadata": {},
          "execution_count": 3
        },
        {
          "output_type": "display_data",
          "data": {
            "image/png": "[encoded data removed]",
            "text/plain": [
              "<Figure size 432x288 with 1 Axes>"
            ]
          },
          "metadata": {
            "needs_background": "light"
          }
        }
      ]
    },
    {
      "cell_type": "code",
      "metadata": {
        "colab": {
          "base_uri": "https://localhost:8080/"
        },
        "id": "NYzrG6QxpxHq",
        "outputId": "7818d358-4df3-4d61-bf48-9d780547b3a2"
      },
      "source": [
        "dir(digits)"
      ],
      "execution_count": null,
      "outputs": [
        {
          "output_type": "execute_result",
          "data": {
            "text/plain": [
              "['DESCR', 'data', 'images', 'target', 'target_names']"
            ]
          },
          "metadata": {},
          "execution_count": 4
        }
      ]
    },
    {
      "cell_type": "code",
      "metadata": {
        "colab": {
          "base_uri": "https://localhost:8080/"
        },
        "id": "B4ltVqDasdpH",
        "outputId": "31a65a89-d2e8-4d3e-a61b-776f70c869a5"
      },
      "source": [
        "# Total 10 digits 0-9 are in the target\n",
        "print(digits.target_names)"
      ],
      "execution_count": null,
      "outputs": [
        {
          "output_type": "stream",
          "text": [
            "[0 1 2 3 4 5 6 7 8 9]\n"
          ],
          "name": "stdout"
        }
      ]
    },
    {
      "cell_type": "code",
      "metadata": {
        "colab": {
          "base_uri": "https://localhost:8080/"
        },
        "id": "J1g_DUvKvIVK",
        "outputId": "02869627-4e9f-491f-8e18-18ee5ec0a5d3"
      },
      "source": [
        "\n",
        "print(digits.data.shape)"
      ],
      "execution_count": null,
      "outputs": [
        {
          "output_type": "stream",
          "text": [
            "(1797, 64)\n"
          ],
          "name": "stdout"
        }
      ]
    },
    {
      "cell_type": "markdown",
      "metadata": {
        "id": "70gj3gkIv1B2"
      },
      "source": [
        "So, there are 1797 total images of the size 8x8"
      ]
    },
    {
      "cell_type": "code",
      "metadata": {
        "id": "-fFgjRuavjXt"
      },
      "source": [
        "from sklearn.model_selection import train_test_split\n",
        "x_train, x_test, y_train, y_test = train_test_split(digits.data, digits.target, test_size=0.3)"
      ],
      "execution_count": null,
      "outputs": []
    },
    {
      "cell_type": "code",
      "metadata": {
        "colab": {
          "base_uri": "https://localhost:8080/"
        },
        "id": "AqHnHjlFwegd",
        "outputId": "28b78723-fe5e-4f49-c1f2-96052bf31bc9"
      },
      "source": [
        "x_train.shape"
      ],
      "execution_count": null,
      "outputs": [
        {
          "output_type": "execute_result",
          "data": {
            "text/plain": [
              "(1257, 64)"
            ]
          },
          "metadata": {},
          "execution_count": 8
        }
      ]
    },
    {
      "cell_type": "markdown",
      "metadata": {
        "id": "zJYhKhaYwqH6"
      },
      "source": [
        "Logistic Regression"
      ]
    },
    {
      "cell_type": "code",
      "metadata": {
        "colab": {
          "base_uri": "https://localhost:8080/"
        },
        "id": "63OB8Hv3whXw",
        "outputId": "c9dab24b-9fe9-4a53-dfa3-afb3b5eed3a0"
      },
      "source": [
        "lr = LogisticRegression(solver='liblinear', multi_class='ovr')\n",
        "lr.fit(x_train,y_train)\n",
        "lr.score(x_test,y_test)"
      ],
      "execution_count": null,
      "outputs": [
        {
          "output_type": "execute_result",
          "data": {
            "text/plain": [
              "0.9611111111111111"
            ]
          },
          "metadata": {},
          "execution_count": 9
        }
      ]
    },
    {
      "cell_type": "markdown",
      "metadata": {
        "id": "OTUPt6yH2DT7"
      },
      "source": [
        "SVM"
      ]
    },
    {
      "cell_type": "code",
      "metadata": {
        "colab": {
          "base_uri": "https://localhost:8080/"
        },
        "id": "sLZ8Nrer19wT",
        "outputId": "dd39be88-bd7d-417a-f899-33d36fe219b4"
      },
      "source": [
        "svm = SVC(gamma='auto')\n",
        "svm.fit(x_train,y_train)\n",
        "svm.score(x_test,y_test)"
      ],
      "execution_count": null,
      "outputs": [
        {
          "output_type": "execute_result",
          "data": {
            "text/plain": [
              "0.29444444444444445"
            ]
          },
          "metadata": {},
          "execution_count": 10
        }
      ]
    },
    {
      "cell_type": "markdown",
      "metadata": {
        "id": "tmCOSgAh2Uaf"
      },
      "source": [
        "Random **Forest**"
      ]
    },
    {
      "cell_type": "code",
      "metadata": {
        "colab": {
          "base_uri": "https://localhost:8080/"
        },
        "id": "6SOE2T6S2SM7",
        "outputId": "d2ef431a-492e-4020-d723-d3ecdc30adec"
      },
      "source": [
        "rf= RandomForestClassifier(n_estimators=50)\n",
        "rf.fit(x_train,y_train)\n",
        "rf.score(x_test,y_test)"
      ],
      "execution_count": null,
      "outputs": [
        {
          "output_type": "execute_result",
          "data": {
            "text/plain": [
              "0.9703703703703703"
            ]
          },
          "metadata": {},
          "execution_count": 11
        }
      ]
    },
    {
      "cell_type": "markdown",
      "metadata": {
        "id": "HX-ORTl62s5W"
      },
      "source": [
        "**KFold cross validation is used to train the model iteratively for differnt train test combination of the same data**"
      ]
    },
    {
      "cell_type": "code",
      "metadata": {
        "colab": {
          "base_uri": "https://localhost:8080/"
        },
        "id": "cph8p8hQ2lKw",
        "outputId": "92738f6a-c8fd-48ac-adc2-c95d56eadfc8"
      },
      "source": [
        "from sklearn.model_selection import KFold\n",
        "kf = KFold(n_splits =10)\n",
        "kf"
      ],
      "execution_count": null,
      "outputs": [
        {
          "output_type": "execute_result",
          "data": {
            "text/plain": [
              "KFold(n_splits=10, random_state=None, shuffle=False)"
            ]
          },
          "metadata": {},
          "execution_count": 36
        }
      ]
    },
    {
      "cell_type": "code",
      "metadata": {
        "id": "a1ulB1DWtDyO"
      },
      "source": [
        "#for train_index, test_index in kf.split([1,2,3,4,5,6,7,8,9]):\n",
        " # print(train_index, test_index)"
      ],
      "execution_count": null,
      "outputs": []
    },
    {
      "cell_type": "markdown",
      "metadata": {
        "id": "7uww5EUzMxf7"
      },
      "source": [
        "# **Create one generalized model training function**"
      ]
    },
    {
      "cell_type": "code",
      "metadata": {
        "id": "rYLrbfjcMvD_"
      },
      "source": [
        "def obtain_score(model, x_train, x_test, y_train, y_test):\n",
        "  model.fit(x_train, y_train)\n",
        "  return model.score(x_test,y_test)\n"
      ],
      "execution_count": null,
      "outputs": []
    },
    {
      "cell_type": "code",
      "metadata": {
        "id": "RtVIYSWbtadS"
      },
      "source": [
        "scores_logistic = []\n",
        "scores_svm=[]\n",
        "scores_rf = []\n",
        "for train_index, test_index in kf.split(digits.data, digits.target):\n",
        "  x_train, x_test, y_train, y_test = digits.data[train_index], digits.data[test_index], digits.target[train_index], digits.target[test_index] \n",
        "  scores_logistic.append(obtain_score(LogisticRegression(solver='liblinear',multi_class='ovr'),x_train,x_test,y_train,y_test))\n",
        "  scores_svm.append(obtain_score(SVC(gamma='auto'),x_train,x_test,y_train,y_test))\n",
        "  scores_rf.append(obtain_score(RandomForestClassifier(n_estimators=50),x_train,x_test,y_train,y_test))"
      ],
      "execution_count": null,
      "outputs": []
    },
    {
      "cell_type": "code",
      "metadata": {
        "colab": {
          "base_uri": "https://localhost:8080/"
        },
        "id": "cXYfLPjPLwpl",
        "outputId": "9d70ed84-b6c3-458c-cb0e-16488cab5040"
      },
      "source": [
        "np.average(scores_logistic), np.average(scores_svm), np.average(scores_rf)"
      ],
      "execution_count": null,
      "outputs": [
        {
          "output_type": "execute_result",
          "data": {
            "text/plain": [
              "(0.931530105524519, 0.4652700186219739, 0.9588175046554934)"
            ]
          },
          "metadata": {},
          "execution_count": 40
        }
      ]
    },
    {
      "cell_type": "markdown",
      "metadata": {
        "id": "lgGnPUYoVasK"
      },
      "source": [
        "## **Same task can be repeated with StratifiedKFols the difference is it will shuffle the data before splitting it**"
      ]
    },
    {
      "cell_type": "code",
      "metadata": {
        "id": "IWOWj1dYQ-sE"
      },
      "source": [
        ""
      ],
      "execution_count": null,
      "outputs": []
    }
  ]
}